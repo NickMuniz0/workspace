{
  "nbformat": 4,
  "nbformat_minor": 0,
  "metadata": {
    "colab": {
      "name": "Untitled1.ipynb",
      "provenance": [],
      "collapsed_sections": [],
      "authorship_tag": "ABX9TyNuCnki4fxMi+Q+ZCCCAIHh",
      "include_colab_link": true
    },
    "kernelspec": {
      "name": "python3",
      "display_name": "Python 3"
    },
    "language_info": {
      "name": "python"
    }
  },
  "cells": [
    {
      "cell_type": "markdown",
      "metadata": {
        "id": "view-in-github",
        "colab_type": "text"
      },
      "source": [
        "<a href=\"https://colab.research.google.com/github/NickMuz/workspace/blob/DataScience/Melhorando_a_Visualizacao.ipynb\" target=\"_parent\"><img src=\"https://colab.research.google.com/assets/colab-badge.svg\" alt=\"Open In Colab\"/></a>"
      ]
    },
    {
      "cell_type": "code",
      "metadata": {
        "colab": {
          "base_uri": "https://localhost:8080/"
        },
        "id": "FHuc3ykIeEvp",
        "outputId": "7483a3b3-f962-425e-b09c-fd8b7a7723a1"
      },
      "source": [
        "import pandas as pd\n",
        "import seaborn as sns\n",
        "import matplotlib.pyplot as plt\n",
        "tmdb = pd.read_csv(\"tmdb_5000_movies.csv\")\n",
        "contagem_de_lingua = tmdb['original_language'].value_counts().to_frame().reset_index()\n",
        "contagem_de_lingua.columns=['original_language','Total']\n",
        "contagem_de_lingua.head()\n",
        "\n",
        "#nao recomendado muito dificil entender a diferencia por area \n",
        "# plt.pie(contagem_de_lingua['Total'], labels = contagem_de_lingua['original_language'])\n",
        "total_por_lingua=tmdb['original_language'].value_counts()\n",
        "#localizar somente a linha que tem en\n",
        "total_de_ingles = total_por_lingua.loc['en']\n",
        "total_geral = total_por_lingua.sum()\n",
        "total_do_resto = total_geral - total_de_ingles\n",
        "print(total_de_ingles, total_do_resto)\n",
        "\n",
        "\n",
        "dados= {\n",
        "    'lingua': ['ingles','outros'],\n",
        "    'total': [total_de_ingles,total_do_resto]\n",
        "}\n",
        "\n",
        "dados"
      ],
      "execution_count": 7,
      "outputs": [
        {
          "output_type": "stream",
          "text": [
            "4505 298\n"
          ],
          "name": "stdout"
        },
        {
          "output_type": "execute_result",
          "data": {
            "text/plain": [
              "{'lingua': ['ingles', 'outros'], 'total': [4505, 298]}"
            ]
          },
          "metadata": {
            "tags": []
          },
          "execution_count": 7
        }
      ]
    },
    {
      "cell_type": "code",
      "metadata": {
        "colab": {
          "base_uri": "https://localhost:8080/",
          "height": 296
        },
        "id": "T7drjT4IjvYX",
        "outputId": "593847f5-8f2c-4697-c95c-ff3808e73972"
      },
      "source": [
        "dados = pd.DataFrame(dados)\n",
        "sns.barplot(x='lingua', y='total',data= dados)"
      ],
      "execution_count": 11,
      "outputs": [
        {
          "output_type": "execute_result",
          "data": {
            "text/plain": [
              "<matplotlib.axes._subplots.AxesSubplot at 0x7fa3caa2dad0>"
            ]
          },
          "metadata": {
            "tags": []
          },
          "execution_count": 11
        },
        {
          "output_type": "display_data",
          "data": {
            "image/png": "[encoded data removed]",
            "text/plain": [
              "<Figure size 432x288 with 1 Axes>"
            ]
          },
          "metadata": {
            "tags": [],
            "needs_background": "light"
          }
        }
      ]
    }
  ]
}