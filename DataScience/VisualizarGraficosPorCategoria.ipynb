{
  "nbformat": 4,
  "nbformat_minor": 0,
  "metadata": {
    "colab": {
      "name": "Untitled1.ipynb",
      "provenance": [],
      "collapsed_sections": [],
      "authorship_tag": "ABX9TyPQdvEJG2topriRbTIeHv7h",
      "include_colab_link": true
    },
    "kernelspec": {
      "name": "python3",
      "display_name": "Python 3"
    },
    "language_info": {
      "name": "python"
    }
  },
  "cells": [
    {
      "cell_type": "markdown",
      "metadata": {
        "id": "view-in-github",
        "colab_type": "text"
      },
      "source": [
        "<a href=\"https://colab.research.google.com/github/NickMuz/workspace/blob/DataScience/VisualizarGraficosPorCategoria.ipynb\" target=\"_parent\"><img src=\"https://colab.research.google.com/assets/colab-badge.svg\" alt=\"Open In Colab\"/></a>"
      ]
    },
    {
      "cell_type": "code",
      "metadata": {
        "colab": {
          "base_uri": "https://localhost:8080/",
          "height": 401
        },
        "id": "FHuc3ykIeEvp",
        "outputId": "cfa2c60b-778d-4583-c566-0386eab8f5e1"
      },
      "source": [
        "import pandas as pd\n",
        "import seaborn as sns\n",
        "tmdb = pd.read_csv(\"tmdb_5000_movies.csv\")\n",
        "# Variavel Categorica \n",
        "# tmdb.original_language.unique()\n",
        "# tmdb['original_language'].value_counts().index\n",
        "# tmdb['original_language'].value_counts().values\n",
        "# tmdb['original_language'].value_counts().to_frame()\n",
        "# Remove o index e transforma numa coluna\n",
        "contagem_de_lingua = tmdb['original_language'].value_counts().to_frame().reset_index()\n",
        "contagem_de_lingua.columns=['original_language','Total']\n",
        "contagem_de_lingua.head()\n",
        "# https://seaborn.pydata.org/tutorial/categorical.html\n",
        "#Baixo nivel\n",
        "# sns.barplot(x=\"original_language\",y=\"Total\",data=contagem_de_lingua)\n",
        "#Alto nivel \n",
        "sns.catplot(x=\"original_language\", kind=\"count\", data= tmdb)"
      ],
      "execution_count": 16,
      "outputs": [
        {
          "output_type": "execute_result",
          "data": {
            "text/plain": [
              "<seaborn.axisgrid.FacetGrid at 0x7f5405947e90>"
            ]
          },
          "metadata": {
            "tags": []
          },
          "execution_count": 16
        },
        {
          "output_type": "display_data",
          "data": {
            "image/png": "[encoded data removed]",
            "text/plain": [
              "<Figure size 360x360 with 1 Axes>"
            ]
          },
          "metadata": {
            "tags": [],
            "needs_background": "light"
          }
        }
      ]
    },
    {
      "cell_type": "code",
      "metadata": {
        "colab": {
          "base_uri": "https://localhost:8080/"
        },
        "id": "IwPt2Jk0zvTO",
        "outputId": "01e8c7cf-0ffd-4a3e-8bcf-b408da814391"
      },
      "source": [
        "#instalando modulos\n",
        "# !pip.install seaborn==0.11.1\n",
        "# print(sns.__version__)"
      ],
      "execution_count": 18,
      "outputs": [
        {
          "output_type": "stream",
          "text": [
            "0.11.1\n"
          ],
          "name": "stdout"
        }
      ]
    },
    {
      "cell_type": "code",
      "metadata": {
        "id": "3jnpe3yq1_Oa"
      },
      "source": [
        "# "
      ],
      "execution_count": null,
      "outputs": []
    }
  ]
}