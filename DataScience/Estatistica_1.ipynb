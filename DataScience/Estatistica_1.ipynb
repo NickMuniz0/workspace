{
  "nbformat": 4,
  "nbformat_minor": 0,
  "metadata": {
    "colab": {
      "name": "Estatistica- 1.ipynb",
      "provenance": [],
      "collapsed_sections": [],
      "authorship_tag": "ABX9TyNxWd2RwaFD/98opsr1W1nG",
      "include_colab_link": true
    },
    "kernelspec": {
      "name": "python3",
      "display_name": "Python 3"
    },
    "language_info": {
      "name": "python"
    }
  },
  "cells": [
    {
      "cell_type": "markdown",
      "metadata": {
        "id": "view-in-github",
        "colab_type": "text"
      },
      "source": [
        "<a href=\"https://colab.research.google.com/github/NickMuz/workspace/blob/DataScience/Estatistica_1.ipynb\" target=\"_parent\"><img src=\"https://colab.research.google.com/assets/colab-badge.svg\" alt=\"Open In Colab\"/></a>"
      ]
    },
    {
      "cell_type": "code",
      "metadata": {
        "id": "Z2Pct2ILuxiq"
      },
      "source": [
        "# import pandas \n",
        "# import numpy \n",
        "# import seaborn \n",
        "# import scipy \n"
      ],
      "execution_count": 1,
      "outputs": []
    },
    {
      "cell_type": "code",
      "metadata": {
        "colab": {
          "base_uri": "https://localhost:8080/"
        },
        "id": "zy2_tdPHvY9X",
        "outputId": "17b611d3-9730-4a86-efd2-b8757393ea99"
      },
      "source": [
        "import pandas as pd \n",
        "dados = pd.read_csv('dados.csv')\n",
        "# dados.head()\n",
        "\n",
        "# TIPO de DADOS \n",
        "# QUALITATIVOS E QUANTITATIVOS(CONTAGEM)\n",
        "\n",
        "# Qualitativas ordinais - variaveis que podem ser ordenadas ou hierarquizadas \n",
        "# sorted(dados['Anos de Estudo'].unique())\n",
        "# Quanlitativa Ordinal - quando representa faixas de idade \n",
        "\n",
        "# Qualitativas nominais - variaveis que nao podem ser ordenas ou hierarquizadas\n",
        "# sorted(dados['UF'].unique())\n",
        "# sorted(dados['Sexo'].unique())\n",
        "# sorted(dados['Cor'].unique())\n",
        "\n",
        "# Quantitativas Discretas - Variaveis que representam \n",
        "# uma contagem onde os valores possiveis \n",
        "# formam um conjunto finito ou enumeravel\n",
        "\n",
        "# Quantitativa Discreta - representam anos completos(inteiros)\n",
        "# dados.Idade.min()\n",
        "# dados.Idade.max()\n",
        "# print('De %s até %s anos' %(dados.Idade.min(),dados.Idade.max()))\n",
        "\n",
        "# Quantitativa Continua - representa a idade exata, sendo representada por fracoes de anos \n",
        "# print('De %s até %s metros' %(dados.Altura.min(),dados.Altura.max()))\n",
        "\n"
      ],
      "execution_count": 19,
      "outputs": [
        {
          "output_type": "stream",
          "text": [
            "De 1.339244614 até 2.028496765 metros\n"
          ],
          "name": "stdout"
        }
      ]
    },
    {
      "cell_type": "code",
      "metadata": {
        "colab": {
          "base_uri": "https://localhost:8080/",
          "height": 111
        },
        "id": "_Vw8y1h4x1zB",
        "outputId": "cf108648-34af-4d49-94da-41b25b9c9cba"
      },
      "source": [
        "# Distribuição de Frequencia \n",
        "\n",
        "# METODO 1\n",
        "\n",
        "# 0 M \n",
        "# 1 F\n",
        "# dados['Sexo'].value_counts() \n",
        "# dados['Sexo'].value_counts(normalize=True) \n",
        "\n",
        "# dados['Sexo'].value_counts(normalize=True) *100\n",
        "# frequencia =  dados['Sexo'].value_counts() \n",
        "# percentual =  dados['Sexo'].value_counts(normalize=True) \n",
        "# dist_freq_qualitativas = pd.DataFrame({'Frequencia':frequencia , 'Porcentagem (%)': percentual})\n",
        "# dist_freq_qualitativas.rename(index= {0: 'Masculino', 1: 'Feminino'}, inplace=True ) #Salva Configuracao\n",
        "# dist_freq_qualitativas.rename_axis('Sexo',axis='columns', inplace=True)\n",
        "# dist_freq_qualitativas"
      ],
      "execution_count": 30,
      "outputs": [
        {
          "output_type": "execute_result",
          "data": {
            "text/html": [
              "<div>\n",
              "<style scoped>\n",
              "    .dataframe tbody tr th:only-of-type {\n",
              "        vertical-align: middle;\n",
              "    }\n",
              "\n",
              "    .dataframe tbody tr th {\n",
              "        vertical-align: top;\n",
              "    }\n",
              "\n",
              "    .dataframe thead th {\n",
              "        text-align: right;\n",
              "    }\n",
              "</style>\n",
              "<table border=\"1\" class=\"dataframe\">\n",
              "  <thead>\n",
              "    <tr style=\"text-align: right;\">\n",
              "      <th>Sexo</th>\n",
              "      <th>Frequencia</th>\n",
              "      <th>Porcentagem (%)</th>\n",
              "    </tr>\n",
              "  </thead>\n",
              "  <tbody>\n",
              "    <tr>\n",
              "      <th>Masculino</th>\n",
              "      <td>53250</td>\n",
              "      <td>0.692998</td>\n",
              "    </tr>\n",
              "    <tr>\n",
              "      <th>Feminino</th>\n",
              "      <td>23590</td>\n",
              "      <td>0.307002</td>\n",
              "    </tr>\n",
              "  </tbody>\n",
              "</table>\n",
              "</div>"
            ],
            "text/plain": [
              "Sexo       Frequencia  Porcentagem (%)\n",
              "Masculino       53250         0.692998\n",
              "Feminino        23590         0.307002"
            ]
          },
          "metadata": {
            "tags": []
          },
          "execution_count": 30
        }
      ]
    },
    {
      "cell_type": "code",
      "metadata": {
        "colab": {
          "base_uri": "https://localhost:8080/",
          "height": 142
        },
        "id": "z1Bdx3Me2d3O",
        "outputId": "ea7d966f-79e2-421f-d996-e8e72ce45981"
      },
      "source": [
        "# METODO 2\n",
        "\n",
        "sexo = { \n",
        "    0:'Masculino',\n",
        "    1:'Feminino'\n",
        "      }\n",
        "cor = {\n",
        "    0:'Indigena',\n",
        "    2:'Branca',\n",
        "    4:'Preta',\n",
        "    6:'Amarela',\n",
        "    8:'Parda',\n",
        "    9:'Sem declaracao'\n",
        "}\n",
        "\n",
        "# frequencia = pd.crosstab(dados.Sexo,dados.Cor)\n",
        "# frequencia.rename(index= sexo, inplace = True)\n",
        "# frequencia.rename(columns= cor, inplace = True)\n",
        "# frequencia \n",
        "\n",
        "# percentual = pd.crosstab(dados.Sexo,dados.Cor, normalize = True) * 100\n",
        "# percentual.rename(index= sexo, inplace = True)\n",
        "# percentual.rename(columns= cor, inplace = True)\n",
        "# percentual  \n",
        "\n",
        "# Cruzamento\n",
        "# Renda media dentro desse Cruzamento\n",
        "# percentual = pd.crosstab(dados.Sexo,dados.Cor, aggfunc='mean', values = dados.Renda) \n",
        "# percentual.rename(index= sexo, inplace = True)\n",
        "# percentual.rename(columns= cor, inplace = True)\n",
        "# percentual \n",
        "\n",
        "\n"
      ],
      "execution_count": 39,
      "outputs": [
        {
          "output_type": "execute_result",
          "data": {
            "text/html": [
              "<div>\n",
              "<style scoped>\n",
              "    .dataframe tbody tr th:only-of-type {\n",
              "        vertical-align: middle;\n",
              "    }\n",
              "\n",
              "    .dataframe tbody tr th {\n",
              "        vertical-align: top;\n",
              "    }\n",
              "\n",
              "    .dataframe thead th {\n",
              "        text-align: right;\n",
              "    }\n",
              "</style>\n",
              "<table border=\"1\" class=\"dataframe\">\n",
              "  <thead>\n",
              "    <tr style=\"text-align: right;\">\n",
              "      <th>Cor</th>\n",
              "      <th>Indigena</th>\n",
              "      <th>Branca</th>\n",
              "      <th>Preta</th>\n",
              "      <th>Amarela</th>\n",
              "      <th>Parda</th>\n",
              "    </tr>\n",
              "    <tr>\n",
              "      <th>Sexo</th>\n",
              "      <th></th>\n",
              "      <th></th>\n",
              "      <th></th>\n",
              "      <th></th>\n",
              "      <th></th>\n",
              "    </tr>\n",
              "  </thead>\n",
              "  <tbody>\n",
              "    <tr>\n",
              "      <th>Masculino</th>\n",
              "      <td>1081.710938</td>\n",
              "      <td>2925.744435</td>\n",
              "      <td>1603.861687</td>\n",
              "      <td>4758.251064</td>\n",
              "      <td>1659.577425</td>\n",
              "    </tr>\n",
              "    <tr>\n",
              "      <th>Feminino</th>\n",
              "      <td>2464.386139</td>\n",
              "      <td>2109.866750</td>\n",
              "      <td>1134.596400</td>\n",
              "      <td>3027.341880</td>\n",
              "      <td>1176.758516</td>\n",
              "    </tr>\n",
              "  </tbody>\n",
              "</table>\n",
              "</div>"
            ],
            "text/plain": [
              "Cor           Indigena       Branca        Preta      Amarela        Parda\n",
              "Sexo                                                                      \n",
              "Masculino  1081.710938  2925.744435  1603.861687  4758.251064  1659.577425\n",
              "Feminino   2464.386139  2109.866750  1134.596400  3027.341880  1176.758516"
            ]
          },
          "metadata": {
            "tags": []
          },
          "execution_count": 39
        }
      ]
    },
    {
      "cell_type": "code",
      "metadata": {
        "colab": {
          "base_uri": "https://localhost:8080/",
          "height": 204
        },
        "id": "ZBppeaiy49gy",
        "outputId": "e30d563b-7c7d-4644-c522-5534f7e0038e"
      },
      "source": [
        "# Distribuicao de frequencias para variaveis quantitativas\n",
        "\n",
        "# Metodo 1\n",
        "\n",
        "# A > de 15.756\n",
        "# B 7.880 a 15.756\n",
        "# C 3.152 a 7.880\n",
        "# D 1.576 a 3.152\n",
        "# E 1576\n",
        "# dados.Renda.min()\n",
        "# dados.Renda.max()\n",
        "# classes = [0,1576,3152, 7880,15756, 200000]\n",
        "# labels = ['E','D','C','B','A']\n",
        " \n",
        "# cutpd = pd.cut(x=dados.Renda,bins=classes,labels=labels, include_lowest=True)\n",
        "# frequencia = pd.value_counts(cutpd)\n",
        "# percentual = pd.value_counts(cutpd,normalize=True)\n",
        "\n",
        "# dist_freq_quantitativas_personalizadas = pd.DataFrame({'Frequencia':frequencia , 'Porcentagem (%)': percentual})\n",
        "# dist_freq_quantitativas_personalizadas.sort_index(ascending=False)"
      ],
      "execution_count": 48,
      "outputs": [
        {
          "output_type": "execute_result",
          "data": {
            "text/html": [
              "<div>\n",
              "<style scoped>\n",
              "    .dataframe tbody tr th:only-of-type {\n",
              "        vertical-align: middle;\n",
              "    }\n",
              "\n",
              "    .dataframe tbody tr th {\n",
              "        vertical-align: top;\n",
              "    }\n",
              "\n",
              "    .dataframe thead th {\n",
              "        text-align: right;\n",
              "    }\n",
              "</style>\n",
              "<table border=\"1\" class=\"dataframe\">\n",
              "  <thead>\n",
              "    <tr style=\"text-align: right;\">\n",
              "      <th></th>\n",
              "      <th>Frequencia</th>\n",
              "      <th>Porcentagem (%)</th>\n",
              "    </tr>\n",
              "  </thead>\n",
              "  <tbody>\n",
              "    <tr>\n",
              "      <th>A</th>\n",
              "      <td>610</td>\n",
              "      <td>0.007939</td>\n",
              "    </tr>\n",
              "    <tr>\n",
              "      <th>B</th>\n",
              "      <td>2176</td>\n",
              "      <td>0.028319</td>\n",
              "    </tr>\n",
              "    <tr>\n",
              "      <th>C</th>\n",
              "      <td>7599</td>\n",
              "      <td>0.098894</td>\n",
              "    </tr>\n",
              "    <tr>\n",
              "      <th>D</th>\n",
              "      <td>16700</td>\n",
              "      <td>0.217335</td>\n",
              "    </tr>\n",
              "    <tr>\n",
              "      <th>E</th>\n",
              "      <td>49755</td>\n",
              "      <td>0.647514</td>\n",
              "    </tr>\n",
              "  </tbody>\n",
              "</table>\n",
              "</div>"
            ],
            "text/plain": [
              "   Frequencia  Porcentagem (%)\n",
              "A         610         0.007939\n",
              "B        2176         0.028319\n",
              "C        7599         0.098894\n",
              "D       16700         0.217335\n",
              "E       49755         0.647514"
            ]
          },
          "metadata": {
            "tags": []
          },
          "execution_count": 48
        }
      ]
    },
    {
      "cell_type": "code",
      "metadata": {
        "colab": {
          "base_uri": "https://localhost:8080/",
          "height": 576
        },
        "id": "qREMw1FXFUxe",
        "outputId": "70033dea-66ee-4402-95ee-2e444c5200f0"
      },
      "source": [
        "import  numpy as np \n",
        "# Regra de Sturges - definicao de numero de classes,\n",
        "# baseado no total de observacoes de uma variavel \n",
        "\n",
        "# K = 1+ 10/3log10n\n",
        "\n",
        "# n = dados.shape  registro e variaveis\n",
        "# n = dados.shape[0]  registro \n",
        "n = dados.shape[0]\n",
        "\n",
        "k = 1+(10/3) *  np.log10(n)\n",
        "k = int(k.round(0))\n",
        "\n",
        "frequencia = pd.value_counts(\n",
        "    pd.cut(\n",
        "        x = dados.Renda,\n",
        "        bins= 17 ,\n",
        "        include_lowest = True        \n",
        "    ),\n",
        "    sort=False\n",
        ")\n",
        "\n",
        "percentual = pd.value_counts(\n",
        "    pd.cut(\n",
        "        x = dados.Renda,\n",
        "        bins= 17 ,\n",
        "        include_lowest = True        \n",
        "    ),\n",
        "    sort=False,\n",
        "    normalize = True\n",
        ")\n",
        "dist_freq_quantitativas_amplitudeFixa = pd.DataFrame({'Frequencia':frequencia , 'Porcentagem (%)': percentual})\n",
        "dist_freq_quantitativas_amplitudeFixa"
      ],
      "execution_count": 57,
      "outputs": [
        {
          "output_type": "execute_result",
          "data": {
            "text/html": [
              "<div>\n",
              "<style scoped>\n",
              "    .dataframe tbody tr th:only-of-type {\n",
              "        vertical-align: middle;\n",
              "    }\n",
              "\n",
              "    .dataframe tbody tr th {\n",
              "        vertical-align: top;\n",
              "    }\n",
              "\n",
              "    .dataframe thead th {\n",
              "        text-align: right;\n",
              "    }\n",
              "</style>\n",
              "<table border=\"1\" class=\"dataframe\">\n",
              "  <thead>\n",
              "    <tr style=\"text-align: right;\">\n",
              "      <th></th>\n",
              "      <th>Frequencia</th>\n",
              "      <th>Porcentagem (%)</th>\n",
              "    </tr>\n",
              "  </thead>\n",
              "  <tbody>\n",
              "    <tr>\n",
              "      <th>(-200.001, 11764.706]</th>\n",
              "      <td>75594</td>\n",
              "      <td>0.983784</td>\n",
              "    </tr>\n",
              "    <tr>\n",
              "      <th>(11764.706, 23529.412]</th>\n",
              "      <td>1022</td>\n",
              "      <td>0.013300</td>\n",
              "    </tr>\n",
              "    <tr>\n",
              "      <th>(23529.412, 35294.118]</th>\n",
              "      <td>169</td>\n",
              "      <td>0.002199</td>\n",
              "    </tr>\n",
              "    <tr>\n",
              "      <th>(35294.118, 47058.824]</th>\n",
              "      <td>19</td>\n",
              "      <td>0.000247</td>\n",
              "    </tr>\n",
              "    <tr>\n",
              "      <th>(47058.824, 58823.529]</th>\n",
              "      <td>16</td>\n",
              "      <td>0.000208</td>\n",
              "    </tr>\n",
              "    <tr>\n",
              "      <th>(58823.529, 70588.235]</th>\n",
              "      <td>5</td>\n",
              "      <td>0.000065</td>\n",
              "    </tr>\n",
              "    <tr>\n",
              "      <th>(70588.235, 82352.941]</th>\n",
              "      <td>4</td>\n",
              "      <td>0.000052</td>\n",
              "    </tr>\n",
              "    <tr>\n",
              "      <th>(82352.941, 94117.647]</th>\n",
              "      <td>1</td>\n",
              "      <td>0.000013</td>\n",
              "    </tr>\n",
              "    <tr>\n",
              "      <th>(94117.647, 105882.353]</th>\n",
              "      <td>6</td>\n",
              "      <td>0.000078</td>\n",
              "    </tr>\n",
              "    <tr>\n",
              "      <th>(105882.353, 117647.059]</th>\n",
              "      <td>0</td>\n",
              "      <td>0.000000</td>\n",
              "    </tr>\n",
              "    <tr>\n",
              "      <th>(117647.059, 129411.765]</th>\n",
              "      <td>1</td>\n",
              "      <td>0.000013</td>\n",
              "    </tr>\n",
              "    <tr>\n",
              "      <th>(129411.765, 141176.471]</th>\n",
              "      <td>0</td>\n",
              "      <td>0.000000</td>\n",
              "    </tr>\n",
              "    <tr>\n",
              "      <th>(141176.471, 152941.176]</th>\n",
              "      <td>0</td>\n",
              "      <td>0.000000</td>\n",
              "    </tr>\n",
              "    <tr>\n",
              "      <th>(152941.176, 164705.882]</th>\n",
              "      <td>0</td>\n",
              "      <td>0.000000</td>\n",
              "    </tr>\n",
              "    <tr>\n",
              "      <th>(164705.882, 176470.588]</th>\n",
              "      <td>0</td>\n",
              "      <td>0.000000</td>\n",
              "    </tr>\n",
              "    <tr>\n",
              "      <th>(176470.588, 188235.294]</th>\n",
              "      <td>0</td>\n",
              "      <td>0.000000</td>\n",
              "    </tr>\n",
              "    <tr>\n",
              "      <th>(188235.294, 200000.0]</th>\n",
              "      <td>3</td>\n",
              "      <td>0.000039</td>\n",
              "    </tr>\n",
              "  </tbody>\n",
              "</table>\n",
              "</div>"
            ],
            "text/plain": [
              "                          Frequencia  Porcentagem (%)\n",
              "(-200.001, 11764.706]          75594         0.983784\n",
              "(11764.706, 23529.412]          1022         0.013300\n",
              "(23529.412, 35294.118]           169         0.002199\n",
              "(35294.118, 47058.824]            19         0.000247\n",
              "(47058.824, 58823.529]            16         0.000208\n",
              "(58823.529, 70588.235]             5         0.000065\n",
              "(70588.235, 82352.941]             4         0.000052\n",
              "(82352.941, 94117.647]             1         0.000013\n",
              "(94117.647, 105882.353]            6         0.000078\n",
              "(105882.353, 117647.059]           0         0.000000\n",
              "(117647.059, 129411.765]           1         0.000013\n",
              "(129411.765, 141176.471]           0         0.000000\n",
              "(141176.471, 152941.176]           0         0.000000\n",
              "(152941.176, 164705.882]           0         0.000000\n",
              "(164705.882, 176470.588]           0         0.000000\n",
              "(176470.588, 188235.294]           0         0.000000\n",
              "(188235.294, 200000.0]             3         0.000039"
            ]
          },
          "metadata": {
            "tags": []
          },
          "execution_count": 57
        }
      ]
    },
    {
      "cell_type": "code",
      "metadata": {
        "colab": {
          "base_uri": "https://localhost:8080/",
          "height": 389
        },
        "id": "P5lT4SlxIWIL",
        "outputId": "ef86ec70-db4a-491d-f453-2b75167226c5"
      },
      "source": [
        "import seaborn as sns \n",
        "\n",
        "# Representacao Grafica\n",
        "\n",
        "# ax = sns.distplot(dados.Altura, kde = False)\n",
        "# ax.figure.set_size_inches(12,6) #12 h 6 w\n",
        "# ax.set_title('Distribuicao de Frequencia - Altura', fontsize =18)\n",
        "# ax.set_xlabel('Metros', fontsize=14)\n",
        "\n",
        "\n",
        "# ax = sns.distplot(dados.Altura)\n",
        "# ax.figure.set_size_inches(14,6) #14 h 6 w\n",
        "# ax.set_title('Distribuicao de Frequencia - Altura - KDE', fontsize =18)\n",
        "# ax.set_xlabel('Metros', fontsize=14)\n",
        "# ax\n",
        "\n",
        "\n",
        "# dados.Altura.hist(bins=50,figsize=(12,6))\n",
        "# dist_freq_quantitativas_personalizadas['Frequencia'].plot.bar(width=1,color='blue',alpha=0.2,figsize=(12,6))"
      ],
      "execution_count": 62,
      "outputs": [
        {
          "output_type": "execute_result",
          "data": {
            "text/plain": [
              "<matplotlib.axes._subplots.AxesSubplot at 0x7fb848e05910>"
            ]
          },
          "metadata": {
            "tags": []
          },
          "execution_count": 62
        },
        {
          "output_type": "display_data",
          "data": {
            "image/png": "[encoded data removed]",
            "text/plain": [
              "<Figure size 864x432 with 1 Axes>"
            ]
          },
          "metadata": {
            "tags": [],
            "needs_background": "light"
          }
        }
      ]
    },
    {
      "cell_type": "code",
      "metadata": {
        "colab": {
          "base_uri": "https://localhost:8080/"
        },
        "id": "kazV0poIKHDh",
        "outputId": "72ff5bd2-752d-4556-8393-1b85e492d467"
      },
      "source": [
        "## Media Aritmetica \n",
        "# centro de massa , ponto de equilibrio \n",
        "#(8+10+4+8+6+10+8) / 7 \n",
        "\n",
        "df = pd.DataFrame(data=  { \n",
        "    'Fulano': [8,10,4,8,6,10,8],\n",
        "    'Beltrano': [10,2,0.5,1,3,9.5,10],\n",
        "    'Sicrano': [7.5,8,7,8,8,8.5,7]    \n",
        "},\n",
        "index = [\n",
        "         'Matematica',\n",
        "         'Portugues',\n",
        "         'Ingles',\n",
        "         'Geografia',\n",
        "         'Historia',\n",
        "         'Fisica',\n",
        "         'Quimica'\n",
        "])\n",
        "\n",
        "df.rename_axis('Materias',axis='columns', inplace =True)\n",
        "# df['Fulano'].mean()\n",
        "# dados.Renda.mean()\n",
        "\n",
        "#Renda media por Sexo \n",
        "dados.groupby(['Sexo'])['Renda'].mean()\n",
        "\n",
        "## Mediana \n",
        "\n",
        "\n",
        "notas_fulano = df.Fulano\n",
        "notas_fulano = notas_fulano.sort_values()\n",
        "notas_fulano = notas_fulano.reset_index()\n",
        "notas_fulano\n",
        "##\n",
        "n = notas_fulano.shape[0]\n",
        "elemento_md = (n+1)/2\n",
        "elemento_md\n",
        "##\n",
        "notas_fulano.loc[elemento_md - 1]\n",
        "##\n",
        "notas_fulano.median()\n",
        "\n",
        "notas_beltrano = df.Beltrano.sample(6,random_state=101) #random_state manter o mesmo experimento \n",
        "notas_beltrano.median()\n",
        "\n",
        "\n",
        "dados.Renda.median()\n",
        "# dados.Renda.quantile?\n",
        "dados.Renda.quantile()# conseque tbm obter a mediana \n",
        "\n",
        "## Moda\n",
        "#Valor mais frequente num conjunto de dados \n",
        "\n",
        "df.mode()\n",
        "# exemplo = pd.Series([1,2,2,3,4,4,5,6,6])\n",
        "# exemplo.mode() #multimodal valores categoricos e qualitativos \n",
        "dados.Renda.mode()\n",
        "\n",
        "\n",
        "\n"
      ],
      "execution_count": 86,
      "outputs": [
        {
          "output_type": "execute_result",
          "data": {
            "text/plain": [
              "0    1.568128\n",
              "1    1.671225\n",
              "2    1.681659\n",
              "3    1.692977\n",
              "4    1.708163\n",
              "5    1.708370\n",
              "6    1.753842\n",
              "7    1.779073\n",
              "8    1.796462\n",
              "dtype: float64"
            ]
          },
          "metadata": {
            "tags": []
          },
          "execution_count": 86
        }
      ]
    },
    {
      "cell_type": "code",
      "metadata": {
        "colab": {
          "base_uri": "https://localhost:8080/",
          "height": 460
        },
        "id": "iejZR_J9MWHr",
        "outputId": "73a41ff1-0cfc-46c2-fde3-6e1459379555"
      },
      "source": [
        " #Relacao entre media, mediana e moda\n",
        " # Assimetrica à Direita Moda> Mediana > Media\n",
        " # Simetrica Media = Mediana = Moda\n",
        " # Assimetrica à Esquerda = Media< Mediana < Moda\n",
        "\n",
        "\n",
        "# ax = sns.distplot(dados.Renda)\n",
        "# ax.figure.set_size_inches(12,6)\n",
        "# ax\n",
        "\n",
        "\n",
        "## RENDA \n",
        "# ax = sns.distplot(dados.query('Renda<20000').Renda)\n",
        "# ax.figure.set_size_inches(12,6)\n",
        "# ax\n",
        "\n",
        "\n",
        "# Moda = dados.Renda.mode()[0]\n",
        "# Moda\n",
        "\n",
        "# Mediana = dados.Renda.median()\n",
        "# Mediana\n",
        "\n",
        "# Media = dados.Renda.mean()\n",
        "# Media\n",
        "\n",
        "# Moda < Mediana < Media \n",
        "\n",
        "## ALTURA\n",
        "\n",
        "# ax = sns.distplot(dados.Altura)\n",
        "# ax.figure.set_size_inches(12,6)\n",
        "# ax\n",
        "\n",
        "\n",
        "# Moda = dados.Altura.mode()[0]\n",
        "# Moda\n",
        "\n",
        "# Mediana = dados.Altura.median()\n",
        "# Mediana\n",
        "\n",
        "# Media = dados.Altura.mean()\n",
        "# Media\n",
        "\n",
        "# Moda == Mediana == Media \n",
        "\n",
        "## Anos de Estudo \n",
        "\n",
        "# ax = sns.distplot(dados['Anos de Estudo'], bins=17)\n",
        "# ax.figure.set_size_inches(12,6)\n",
        "# ax\n",
        "\n",
        "\n",
        "# Moda = dados['Anos de Estudo'].mode()[0]\n",
        "# Moda\n",
        "\n",
        "# Mediana = dados['Anos de Estudo'].median()\n",
        "# Mediana\n",
        "\n",
        "# Media = dados['Anos de Estudo'].mean()\n",
        "# Media\n",
        "\n",
        "# Moda > Mediana > Media \n",
        "\n",
        "\n"
      ],
      "execution_count": 93,
      "outputs": [
        {
          "output_type": "stream",
          "text": [
            "/usr/local/lib/python3.7/dist-packages/seaborn/distributions.py:2557: FutureWarning: `distplot` is a deprecated function and will be removed in a future version. Please adapt your code to use either `displot` (a figure-level function with similar flexibility) or `histplot` (an axes-level function for histograms).\n",
            "  warnings.warn(msg, FutureWarning)\n"
          ],
          "name": "stderr"
        },
        {
          "output_type": "execute_result",
          "data": {
            "text/plain": [
              "False"
            ]
          },
          "metadata": {
            "tags": []
          },
          "execution_count": 93
        },
        {
          "output_type": "display_data",
          "data": {
            "image/png": "[encoded data removed]",
            "text/plain": [
              "<Figure size 864x432 with 1 Axes>"
            ]
          },
          "metadata": {
            "tags": [],
            "needs_background": "light"
          }
        }
      ]
    },
    {
      "cell_type": "code",
      "metadata": {
        "colab": {
          "base_uri": "https://localhost:8080/",
          "height": 483
        },
        "id": "d_S8LCUERHbj",
        "outputId": "54b3a758-6e1e-4694-b27c-bf8786d18a14"
      },
      "source": [
        "# Medidas Separatrizes \n",
        "\n",
        "# Quartis, Decis e Percentis \n",
        "# Quartis - permitem dividr a distribuicao em 4 partes iguais quanto ao numero de elementos de cada uma \n",
        "# Decis - em 10 partes \n",
        "# Centis - 100 partes \n",
        "\n",
        "construtor_de_lista_quartis = [0.25,0.5,0.75]\n",
        "construtor_de_lista_decis = [i/10 for i in range(1,10)]\n",
        "construtor_de_lista_centis = [i/100 for i in range(1,100)]\n",
        "dados.Renda.quantile(construtor_de_lista_quartis)\n",
        "dados.Renda.quantile(construtor_de_lista_decis)\n",
        "dados.Renda.quantile(construtor_de_lista_centis)\n",
        "\n",
        "dados.Idade.quantile(construtor_de_lista_decis)\n",
        "\n",
        "\n",
        "ax = sns.distplot(dados.Idade,hist_kws={'cumulative':True}, kde_kws={'cumulative':True},bins=10)\n",
        "ax.figure.set_size_inches(14,6)\n",
        "ax.set_title('Distribuicao de Frequencia Acumulada', fontsize=18)\n",
        "ax.set_ylabel('Acumulado', fontsize=14)\n",
        "ax.set_xlabel('Anos',fontsize=14)\n",
        "\n",
        "\n"
      ],
      "execution_count": 101,
      "outputs": [
        {
          "output_type": "stream",
          "text": [
            "/usr/local/lib/python3.7/dist-packages/seaborn/distributions.py:2557: FutureWarning: `distplot` is a deprecated function and will be removed in a future version. Please adapt your code to use either `displot` (a figure-level function with similar flexibility) or `histplot` (an axes-level function for histograms).\n",
            "  warnings.warn(msg, FutureWarning)\n"
          ],
          "name": "stderr"
        },
        {
          "output_type": "execute_result",
          "data": {
            "text/plain": [
              "Text(0.5, 0, 'Anos')"
            ]
          },
          "metadata": {
            "tags": []
          },
          "execution_count": 101
        },
        {
          "output_type": "display_data",
          "data": {
            "image/png": "[encoded data removed]",
            "text/plain": [
              "<Figure size 1008x432 with 1 Axes>"
            ]
          },
          "metadata": {
            "tags": [],
            "needs_background": "light"
          }
        }
      ]
    },
    {
      "cell_type": "code",
      "metadata": {
        "colab": {
          "base_uri": "https://localhost:8080/",
          "height": 320
        },
        "id": "HPiQLiP5Tk6P",
        "outputId": "8170a6a2-8258-4411-e1dd-03097237de38"
      },
      "source": [
        "## BOX-PLOT \n",
        "# Ideia da Posicao , Dispersao, assimetria, caudas e dados discrepantes.\n",
        "\n",
        "ax = sns.boxplot(x ='Altura',data = dados , orient='h')\n",
        "ax.figure.set_size_inches(12,4)\n",
        "ax.set_title('Altura', fontsize=18)\n",
        "ax.set_xlabel('Metros',fontsize=14)\n",
        "ax"
      ],
      "execution_count": 103,
      "outputs": [
        {
          "output_type": "execute_result",
          "data": {
            "text/plain": [
              "<matplotlib.axes._subplots.AxesSubplot at 0x7fb853f26690>"
            ]
          },
          "metadata": {
            "tags": []
          },
          "execution_count": 103
        },
        {
          "output_type": "display_data",
          "data": {
            "image/png": "[encoded data removed]",
            "text/plain": [
              "<Figure size 864x288 with 1 Axes>"
            ]
          },
          "metadata": {
            "tags": [],
            "needs_background": "light"
          }
        }
      ]
    },
    {
      "cell_type": "code",
      "metadata": {
        "colab": {
          "base_uri": "https://localhost:8080/",
          "height": 320
        },
        "id": "Dd2r1qXsWSyz",
        "outputId": "8748c98f-f956-4208-b8bd-b99c7eead3cc"
      },
      "source": [
        "ax = sns.boxplot(x ='Altura', y='Sexo',data = dados , orient='h')\n",
        "ax.figure.set_size_inches(12,4)\n",
        "ax.set_title('Altura', fontsize=18)\n",
        "ax.set_xlabel('Metros',fontsize=14)\n",
        "ax"
      ],
      "execution_count": 107,
      "outputs": [
        {
          "output_type": "execute_result",
          "data": {
            "text/plain": [
              "<matplotlib.axes._subplots.AxesSubplot at 0x7fb854050190>"
            ]
          },
          "metadata": {
            "tags": []
          },
          "execution_count": 107
        },
        {
          "output_type": "display_data",
          "data": {
            "image/png": "[encoded data removed]",
            "text/plain": [
              "<Figure size 864x288 with 1 Axes>"
            ]
          },
          "metadata": {
            "tags": [],
            "needs_background": "light"
          }
        }
      ]
    },
    {
      "cell_type": "code",
      "metadata": {
        "colab": {
          "base_uri": "https://localhost:8080/",
          "height": 320
        },
        "id": "9MSRRtguWqCA",
        "outputId": "644f32b1-d70f-48b8-d6ed-6c45ab912931"
      },
      "source": [
        "ax = sns.boxplot(x ='Renda',data = dados , orient='h')\n",
        "ax.figure.set_size_inches(12,4)\n",
        "ax.set_title('Altura', fontsize=18)\n",
        "ax.set_xlabel('Metros',fontsize=14)\n",
        "ax"
      ],
      "execution_count": 108,
      "outputs": [
        {
          "output_type": "execute_result",
          "data": {
            "text/plain": [
              "<matplotlib.axes._subplots.AxesSubplot at 0x7fb8484399d0>"
            ]
          },
          "metadata": {
            "tags": []
          },
          "execution_count": 108
        },
        {
          "output_type": "display_data",
          "data": {
            "image/png": "[encoded data removed]",
            "text/plain": [
              "<Figure size 864x288 with 1 Axes>"
            ]
          },
          "metadata": {
            "tags": [],
            "needs_background": "light"
          }
        }
      ]
    },
    {
      "cell_type": "code",
      "metadata": {
        "colab": {
          "base_uri": "https://localhost:8080/",
          "height": 320
        },
        "id": "pDXTEKhtWviu",
        "outputId": "1720ffe1-603e-4ad6-ebd4-7d78eaa13596"
      },
      "source": [
        "ax = sns.boxplot(x ='Renda',data = dados.query('Renda < 10000') , orient='h')\n",
        "ax.figure.set_size_inches(12,4)\n",
        "ax.set_title('Renda', fontsize=18)\n",
        "ax.set_xlabel('$',fontsize=14)\n",
        "ax"
      ],
      "execution_count": 110,
      "outputs": [
        {
          "output_type": "execute_result",
          "data": {
            "text/plain": [
              "<matplotlib.axes._subplots.AxesSubplot at 0x7fb8485a0650>"
            ]
          },
          "metadata": {
            "tags": []
          },
          "execution_count": 110
        },
        {
          "output_type": "display_data",
          "data": {
            "image/png": "[encoded data removed]",
            "text/plain": [
              "<Figure size 864x288 with 1 Axes>"
            ]
          },
          "metadata": {
            "tags": [],
            "needs_background": "light"
          }
        }
      ]
    },
    {
      "cell_type": "code",
      "metadata": {
        "colab": {
          "base_uri": "https://localhost:8080/",
          "height": 320
        },
        "id": "LVJ2Tv1HW49L",
        "outputId": "eab87ee5-48ed-4980-9e0a-b8f286c2c07b"
      },
      "source": [
        "ax = sns.boxplot(x ='Renda',y='Sexo',data = dados.query('Renda < 10000') , orient='h')\n",
        "ax.figure.set_size_inches(12,4)\n",
        "ax.set_title('Renda', fontsize=18)\n",
        "ax.set_xlabel('$',fontsize=14)\n",
        "ax"
      ],
      "execution_count": 112,
      "outputs": [
        {
          "output_type": "execute_result",
          "data": {
            "text/plain": [
              "<matplotlib.axes._subplots.AxesSubplot at 0x7fb84866bc90>"
            ]
          },
          "metadata": {
            "tags": []
          },
          "execution_count": 112
        },
        {
          "output_type": "display_data",
          "data": {
            "image/png": "[encoded data removed]",
            "text/plain": [
              "<Figure size 864x288 with 1 Axes>"
            ]
          },
          "metadata": {
            "tags": [],
            "needs_background": "light"
          }
        }
      ]
    },
    {
      "cell_type": "code",
      "metadata": {
        "colab": {
          "base_uri": "https://localhost:8080/",
          "height": 320
        },
        "id": "sX7luIKfW9Xy",
        "outputId": "aee0af63-740e-4d4b-f600-5ba6283b0efb"
      },
      "source": [
        "ax = sns.boxplot(x ='Anos de Estudo',data = dados, orient='h')\n",
        "ax.figure.set_size_inches(12,4)\n",
        "ax.set_title('Anos de Estudo', fontsize=18)\n",
        "ax.set_xlabel('Anos',fontsize=14)\n",
        "ax"
      ],
      "execution_count": 114,
      "outputs": [
        {
          "output_type": "execute_result",
          "data": {
            "text/plain": [
              "<matplotlib.axes._subplots.AxesSubplot at 0x7fb848155b90>"
            ]
          },
          "metadata": {
            "tags": []
          },
          "execution_count": 114
        },
        {
          "output_type": "display_data",
          "data": {
            "image/png": "[encoded data removed]",
            "text/plain": [
              "<Figure size 864x288 with 1 Axes>"
            ]
          },
          "metadata": {
            "tags": [],
            "needs_background": "light"
          }
        }
      ]
    },
    {
      "cell_type": "code",
      "metadata": {
        "colab": {
          "base_uri": "https://localhost:8080/",
          "height": 320
        },
        "id": "hkac7wX0XSVA",
        "outputId": "e93ef9c8-82f6-4e50-a34b-863c9c0a9f67"
      },
      "source": [
        "ax = sns.boxplot(x ='Anos de Estudo',data = dados, orient='h')\n",
        "ax.figure.set_size_inches(12,4)\n",
        "ax.set_title('Anos de Estudo', fontsize=18)\n",
        "ax.set_xlabel('Anos',fontsize=14)\n",
        "ax"
      ],
      "execution_count": 115,
      "outputs": [
        {
          "output_type": "execute_result",
          "data": {
            "text/plain": [
              "<matplotlib.axes._subplots.AxesSubplot at 0x7fb8480d70d0>"
            ]
          },
          "metadata": {
            "tags": []
          },
          "execution_count": 115
        },
        {
          "output_type": "display_data",
          "data": {
            "image/png": "[encoded data removed]",
            "text/plain": [
              "<Figure size 864x288 with 1 Axes>"
            ]
          },
          "metadata": {
            "tags": [],
            "needs_background": "light"
          }
        }
      ]
    },
    {
      "cell_type": "code",
      "metadata": {
        "colab": {
          "base_uri": "https://localhost:8080/"
        },
        "id": "Na4Bymy_XWAG",
        "outputId": "ed0e6b45-0180-4082-c7f2-6d8290527689"
      },
      "source": [
        "# Medidas De Dispersão \n",
        "\n",
        "#Desvio medio Absoluto\n",
        "\n",
        "notas_fulano = df[['Fulano']]\n",
        "nota_media_fulano= notas_fulano.mean()[0]  #so o valor \n",
        "\n",
        "notas_fulano['Desvio'] = notas_fulano['Fulano'] - nota_media_fulano\n",
        "notas_fulano\n",
        "\n",
        "notas_fulano['|Desvio|']  = notas_fulano['Desvio'].abs()\n",
        "notas_fulano['|Desvio|'] "
      ],
      "execution_count": 124,
      "outputs": [
        {
          "output_type": "stream",
          "text": [
            "/usr/local/lib/python3.7/dist-packages/ipykernel_launcher.py:9: SettingWithCopyWarning: \n",
            "A value is trying to be set on a copy of a slice from a DataFrame.\n",
            "Try using .loc[row_indexer,col_indexer] = value instead\n",
            "\n",
            "See the caveats in the documentation: https://pandas.pydata.org/pandas-docs/stable/user_guide/indexing.html#returning-a-view-versus-a-copy\n",
            "  if __name__ == '__main__':\n"
          ],
          "name": "stderr"
        },
        {
          "output_type": "execute_result",
          "data": {
            "text/plain": [
              "Matematica    0.285714\n",
              "Portugues     2.285714\n",
              "Ingles        3.714286\n",
              "Geografia     0.285714\n",
              "Historia      1.714286\n",
              "Fisica        2.285714\n",
              "Quimica       0.285714\n",
              "Name: |Desvio|, dtype: float64"
            ]
          },
          "metadata": {
            "tags": []
          },
          "execution_count": 124
        }
      ]
    },
    {
      "cell_type": "code",
      "metadata": {
        "colab": {
          "base_uri": "https://localhost:8080/",
          "height": 391
        },
        "id": "pOT8I2YUYZq0",
        "outputId": "fc2ea73d-a9e9-4708-bdf7-8f2a2ad13994"
      },
      "source": [
        "ax = notas_fulano['Fulano'].plot(style='o')\n",
        "ax.figure.set_size_inches(14,6)\n",
        "ax.hlines(y= nota_media_fulano,xmin=0,xmax=notas_fulano.shape[0]-1, colors='red')\n",
        "for i in range(notas_fulano.shape[0]):\n",
        "        ax.vlines(x =i , ymin=nota_media_fulano, ymax=notas_fulano['Fulano'][i], linestyles='dashed')\n",
        "ax"
      ],
      "execution_count": 126,
      "outputs": [
        {
          "output_type": "execute_result",
          "data": {
            "text/plain": [
              "<matplotlib.axes._subplots.AxesSubplot at 0x7fb84805e790>"
            ]
          },
          "metadata": {
            "tags": []
          },
          "execution_count": 126
        },
        {
          "output_type": "display_data",
          "data": {
            "image/png": "[encoded data removed]",
            "text/plain": [
              "<Figure size 1008x432 with 1 Axes>"
            ]
          },
          "metadata": {
            "tags": [],
            "needs_background": "light"
          }
        }
      ]
    },
    {
      "cell_type": "code",
      "metadata": {
        "colab": {
          "base_uri": "https://localhost:8080/"
        },
        "id": "jBhzgtp7Z6bF",
        "outputId": "666d4f1a-fecb-492d-e637-05949c054411"
      },
      "source": [
        "notas_fulano['|Desvio|'].mean()"
      ],
      "execution_count": 127,
      "outputs": [
        {
          "output_type": "execute_result",
          "data": {
            "text/plain": [
              "1.5510204081632648"
            ]
          },
          "metadata": {
            "tags": []
          },
          "execution_count": 127
        }
      ]
    },
    {
      "cell_type": "code",
      "metadata": {
        "colab": {
          "base_uri": "https://localhost:8080/"
        },
        "id": "zX1rTS45aJKX",
        "outputId": "7bebcf93-0bb5-42b7-b49e-38535257a83e"
      },
      "source": [
        "desvio_medio_absoluto = notas_fulano['Fulano'].mad()\n",
        "desvio_medio_absoluto"
      ],
      "execution_count": 128,
      "outputs": [
        {
          "output_type": "execute_result",
          "data": {
            "text/plain": [
              "1.5510204081632648"
            ]
          },
          "metadata": {
            "tags": []
          },
          "execution_count": 128
        }
      ]
    },
    {
      "cell_type": "code",
      "metadata": {
        "colab": {
          "base_uri": "https://localhost:8080/",
          "height": 266
        },
        "id": "VLrnLiRXaSRr",
        "outputId": "a739da08-8030-4287-b412-3f567d77fc3f"
      },
      "source": [
        "### VARIANCIA\n",
        "#desvio ao quadrado \n",
        "notas_fulano['(Desvio)^2'] =  notas_fulano['Desvio'].pow(2)\n",
        "notas_fulano"
      ],
      "execution_count": 130,
      "outputs": [
        {
          "output_type": "execute_result",
          "data": {
            "text/html": [
              "<div>\n",
              "<style scoped>\n",
              "    .dataframe tbody tr th:only-of-type {\n",
              "        vertical-align: middle;\n",
              "    }\n",
              "\n",
              "    .dataframe tbody tr th {\n",
              "        vertical-align: top;\n",
              "    }\n",
              "\n",
              "    .dataframe thead th {\n",
              "        text-align: right;\n",
              "    }\n",
              "</style>\n",
              "<table border=\"1\" class=\"dataframe\">\n",
              "  <thead>\n",
              "    <tr style=\"text-align: right;\">\n",
              "      <th>Materias</th>\n",
              "      <th>Fulano</th>\n",
              "      <th>Desvio</th>\n",
              "      <th>|Desvio|</th>\n",
              "      <th>(Desvio)^2</th>\n",
              "    </tr>\n",
              "  </thead>\n",
              "  <tbody>\n",
              "    <tr>\n",
              "      <th>Matematica</th>\n",
              "      <td>8</td>\n",
              "      <td>0.285714</td>\n",
              "      <td>0.285714</td>\n",
              "      <td>0.081633</td>\n",
              "    </tr>\n",
              "    <tr>\n",
              "      <th>Portugues</th>\n",
              "      <td>10</td>\n",
              "      <td>2.285714</td>\n",
              "      <td>2.285714</td>\n",
              "      <td>5.224490</td>\n",
              "    </tr>\n",
              "    <tr>\n",
              "      <th>Ingles</th>\n",
              "      <td>4</td>\n",
              "      <td>-3.714286</td>\n",
              "      <td>3.714286</td>\n",
              "      <td>13.795918</td>\n",
              "    </tr>\n",
              "    <tr>\n",
              "      <th>Geografia</th>\n",
              "      <td>8</td>\n",
              "      <td>0.285714</td>\n",
              "      <td>0.285714</td>\n",
              "      <td>0.081633</td>\n",
              "    </tr>\n",
              "    <tr>\n",
              "      <th>Historia</th>\n",
              "      <td>6</td>\n",
              "      <td>-1.714286</td>\n",
              "      <td>1.714286</td>\n",
              "      <td>2.938776</td>\n",
              "    </tr>\n",
              "    <tr>\n",
              "      <th>Fisica</th>\n",
              "      <td>10</td>\n",
              "      <td>2.285714</td>\n",
              "      <td>2.285714</td>\n",
              "      <td>5.224490</td>\n",
              "    </tr>\n",
              "    <tr>\n",
              "      <th>Quimica</th>\n",
              "      <td>8</td>\n",
              "      <td>0.285714</td>\n",
              "      <td>0.285714</td>\n",
              "      <td>0.081633</td>\n",
              "    </tr>\n",
              "  </tbody>\n",
              "</table>\n",
              "</div>"
            ],
            "text/plain": [
              "Materias    Fulano    Desvio  |Desvio|  (Desvio)^2\n",
              "Matematica       8  0.285714  0.285714    0.081633\n",
              "Portugues       10  2.285714  2.285714    5.224490\n",
              "Ingles           4 -3.714286  3.714286   13.795918\n",
              "Geografia        8  0.285714  0.285714    0.081633\n",
              "Historia         6 -1.714286  1.714286    2.938776\n",
              "Fisica          10  2.285714  2.285714    5.224490\n",
              "Quimica          8  0.285714  0.285714    0.081633"
            ]
          },
          "metadata": {
            "tags": []
          },
          "execution_count": 130
        }
      ]
    },
    {
      "cell_type": "code",
      "metadata": {
        "colab": {
          "base_uri": "https://localhost:8080/"
        },
        "id": "wP9ZPMzpacN4",
        "outputId": "571100fe-5e32-4cd1-b38e-81e2612b5628"
      },
      "source": [
        "notas_fulano['(Desvio)^2'].sum()/ (len(notas_fulano)-1) \n",
        "\n",
        "variancia = notas_fulano['Fulano'].var()\n",
        "variancia\n",
        "# resultado fornece medidas em quadrados as unidades originais \n"
      ],
      "execution_count": 132,
      "outputs": [
        {
          "output_type": "execute_result",
          "data": {
            "text/plain": [
              "4.57142857142857"
            ]
          },
          "metadata": {
            "tags": []
          },
          "execution_count": 132
        }
      ]
    },
    {
      "cell_type": "code",
      "metadata": {
        "colab": {
          "base_uri": "https://localhost:8080/"
        },
        "id": "9w12v6uDbS-H",
        "outputId": "1feeb529-1330-4fc1-b247-5a2c536a5556"
      },
      "source": [
        "#Desvio padrao\n",
        "#Raiz quadrada da Variancia \n",
        "np.sqrt(variancia)\n",
        "\n",
        "\n"
      ],
      "execution_count": 133,
      "outputs": [
        {
          "output_type": "execute_result",
          "data": {
            "text/plain": [
              "2.1380899352993947"
            ]
          },
          "metadata": {
            "tags": []
          },
          "execution_count": 133
        }
      ]
    },
    {
      "cell_type": "code",
      "metadata": {
        "colab": {
          "base_uri": "https://localhost:8080/"
        },
        "id": "WF3p6xDSb9VJ",
        "outputId": "c9884ba3-7f1a-4744-d457-7feea77e89be"
      },
      "source": [
        "desvio_padrao =  notas_fulano['Fulano'].std(0)\n",
        "desvio_padrao"
      ],
      "execution_count": 135,
      "outputs": [
        {
          "output_type": "execute_result",
          "data": {
            "text/plain": [
              "2.1380899352993947"
            ]
          },
          "metadata": {
            "tags": []
          },
          "execution_count": 135
        }
      ]
    },
    {
      "cell_type": "code",
      "metadata": {
        "colab": {
          "base_uri": "https://localhost:8080/"
        },
        "id": "i5WsB-VtcBn7",
        "outputId": "3d8d2009-c433-46d2-b1ff-dd40ceaf7941"
      },
      "source": [
        "df.mean()"
      ],
      "execution_count": 136,
      "outputs": [
        {
          "output_type": "execute_result",
          "data": {
            "text/plain": [
              "Materias\n",
              "Fulano      7.714286\n",
              "Beltrano    5.142857\n",
              "Sicrano     7.714286\n",
              "dtype: float64"
            ]
          },
          "metadata": {
            "tags": []
          },
          "execution_count": 136
        }
      ]
    },
    {
      "cell_type": "code",
      "metadata": {
        "colab": {
          "base_uri": "https://localhost:8080/"
        },
        "id": "gCE97hglcNgO",
        "outputId": "3f65e5d8-9138-4d8e-8ca6-b2964fd74a48"
      },
      "source": [
        "df.median()\n"
      ],
      "execution_count": 137,
      "outputs": [
        {
          "output_type": "execute_result",
          "data": {
            "text/plain": [
              "Materias\n",
              "Fulano      8.0\n",
              "Beltrano    3.0\n",
              "Sicrano     8.0\n",
              "dtype: float64"
            ]
          },
          "metadata": {
            "tags": []
          },
          "execution_count": 137
        }
      ]
    },
    {
      "cell_type": "code",
      "metadata": {
        "colab": {
          "base_uri": "https://localhost:8080/",
          "height": 80
        },
        "id": "ypoCYHC-cPZz",
        "outputId": "91206211-2a4b-4cf5-b07d-241601fea76e"
      },
      "source": [
        "df.mode()"
      ],
      "execution_count": 139,
      "outputs": [
        {
          "output_type": "execute_result",
          "data": {
            "text/html": [
              "<div>\n",
              "<style scoped>\n",
              "    .dataframe tbody tr th:only-of-type {\n",
              "        vertical-align: middle;\n",
              "    }\n",
              "\n",
              "    .dataframe tbody tr th {\n",
              "        vertical-align: top;\n",
              "    }\n",
              "\n",
              "    .dataframe thead th {\n",
              "        text-align: right;\n",
              "    }\n",
              "</style>\n",
              "<table border=\"1\" class=\"dataframe\">\n",
              "  <thead>\n",
              "    <tr style=\"text-align: right;\">\n",
              "      <th>Materias</th>\n",
              "      <th>Fulano</th>\n",
              "      <th>Beltrano</th>\n",
              "      <th>Sicrano</th>\n",
              "    </tr>\n",
              "  </thead>\n",
              "  <tbody>\n",
              "    <tr>\n",
              "      <th>0</th>\n",
              "      <td>8</td>\n",
              "      <td>10.0</td>\n",
              "      <td>8.0</td>\n",
              "    </tr>\n",
              "  </tbody>\n",
              "</table>\n",
              "</div>"
            ],
            "text/plain": [
              "Materias  Fulano  Beltrano  Sicrano\n",
              "0              8      10.0      8.0"
            ]
          },
          "metadata": {
            "tags": []
          },
          "execution_count": 139
        }
      ]
    },
    {
      "cell_type": "code",
      "metadata": {
        "colab": {
          "base_uri": "https://localhost:8080/"
        },
        "id": "AnDPg8UwcQyu",
        "outputId": "c1e6f24a-4250-4917-e21f-c5db6b13d7d0"
      },
      "source": [
        "df.std() # variacao perceber sicrano varia pouco"
      ],
      "execution_count": 140,
      "outputs": [
        {
          "output_type": "execute_result",
          "data": {
            "text/plain": [
              "Materias\n",
              "Fulano      2.138090\n",
              "Beltrano    4.460141\n",
              "Sicrano     0.566947\n",
              "dtype: float64"
            ]
          },
          "metadata": {
            "tags": []
          },
          "execution_count": 140
        }
      ]
    },
    {
      "cell_type": "code",
      "metadata": {
        "id": "vwDWrLBhcUtO"
      },
      "source": [
        ""
      ],
      "execution_count": null,
      "outputs": []
    }
  ]
}